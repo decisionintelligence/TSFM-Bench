{
 "cells": [
  {
   "cell_type": "markdown",
   "metadata": {},
   "source": [
    "## Preparing Word Token Embeddings\n",
    "\n",
    "Execute the command below to extract principal components from the word token embeddings:"
   ]
  },
  {
   "cell_type": "code",
   "execution_count": null,
   "metadata": {},
   "outputs": [],
   "source": [
    "import torch\n",
    "\n",
    "from sklearn.decomposition import PCA\n",
    "\n",
    "from transformers.models.gpt2.modeling_gpt2 import GPT2Model\n",
    "\n",
    "model = GPT2Model.from_pretrained('ts_benchmark/baselines/LLM/checkpoints/gpt2', output_attentions=True, output_hidden_states=True)\n",
    "\n",
    "wte = model.wte.state_dict()['weight'].cpu().numpy()\n",
    "\n",
    "pca = PCA(n_components=500)\n",
    "\n",
    "wte_pca = pca.fit_transform(wte.T)\n",
    "\n",
    "torch.save(wte_pca, \"ts_benchmark/baselines/LLM/checkpoints/wte_pca_500.pt\")"
   ]
  }
 ],
 "metadata": {
  "kernelspec": {
   "display_name": "fm",
   "language": "python",
   "name": "python3"
  },
  "language_info": {
   "name": "python",
   "version": "3.10.16"
  }
 },
 "nbformat": 4,
 "nbformat_minor": 2
}
